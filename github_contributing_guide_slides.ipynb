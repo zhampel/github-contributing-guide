{
 "cells": [
  {
   "cell_type": "markdown",
   "metadata": {
    "slideshow": {
     "slide_type": "slide"
    }
   },
   "source": [
    "# Push-Pull and All That <br> A Guide to GitHub & Collaborating\n",
    "## Zigfried Hampel-Arias\n",
    "\n",
    "5 June, 2019 / Timeless"
   ]
  },
  {
   "cell_type": "markdown",
   "metadata": {
    "slideshow": {
     "slide_type": "slide"
    }
   },
   "source": [
    "### Slides\n",
    "https://zhampel.github.io/github-contributing-guide\n",
    "\n",
    "### Contact\n",
    "\n",
    "Find me on:\n",
    "\n",
    "<a href=\"https://zhampel.github.io/\">\n",
    "<img src=\"images/octocat.png\" alt=\"Go My GitHub\" width=\"60\" height=\"60\" border=\"0\"> </a>\n",
    "\n",
    "<a href=\"https://www.linkedin.com/in/zhampel-arias/\">\n",
    "<img src=\"images/LinkedIn-InBug-2C.png\" alt=\"Go to my LinkedIn\" width=\"60\" height=\"60\" border=\"0\">\n",
    "</a>"
   ]
  },
  {
   "cell_type": "markdown",
   "metadata": {
    "slideshow": {
     "slide_type": "slide"
    }
   },
   "source": [
    "## Overview\n",
    "\n",
    "- Version Control\n",
    "- Brief Terminology\n",
    "- Contributing to Personal Repos\n",
    "- Contributing to Repos in Teams"
   ]
  },
  {
   "cell_type": "markdown",
   "metadata": {
    "slideshow": {
     "slide_type": "slide"
    }
   },
   "source": [
    "## Version Control: Why?\n",
    "\n",
    "\n",
    "- Keep track of code, its **changes**, all in one place.\n",
    "    - Multiple versions of code\n",
    "    - Doc changes from **you** (troubleshooting) or **others** (PyTorch, e.g.)\n",
    "<img src=\"images/server.png\" alt=\"server\" width=\"100\" border=\"0\">"
   ]
  },
  {
   "cell_type": "markdown",
   "metadata": {
    "slideshow": {
     "slide_type": "fragment"
    }
   },
   "source": [
    "- Ability to collaborate\n",
    "    - Experiment without interferring others' work\n",
    "    - Tracks who-done-it and when\n",
    "    - **Industry Standard** -> Future Positions\n",
    "<img src=\"images/octocat.png\" alt=\"server\" width=\"100\" border=\"0\">"
   ]
  },
  {
   "cell_type": "markdown",
   "metadata": {
    "slideshow": {
     "slide_type": "fragment"
    }
   },
   "source": [
    "- Risky not to use, plus it's FREE!"
   ]
  },
  {
   "cell_type": "markdown",
   "metadata": {
    "slideshow": {
     "slide_type": "slide"
    }
   },
   "source": [
    "## Personal Disclaimer\n",
    "\n",
    "### Not a definitive guide to using git\n",
    "- I won't pretend to be an expert\n",
    "- Countless resources with further details\n",
    "    - [GitHub Book](https://git-scm.com/book/en/v2/)\n",
    "    - GitHub help [articles](https://help.github.com)\n",
    "    - StackOverflow [git](https://stackoverflow.com/questions/tagged/git) tags\n",
    "    - Git and version control [Q&A](https://www.git-tower.com/learn/git/faq/)"
   ]
  },
  {
   "cell_type": "markdown",
   "metadata": {
    "slideshow": {
     "slide_type": "fragment"
    }
   },
   "source": [
    "### Slides provide guidelines\n",
    "- Outlines *majority* of expected usage/reqs\n",
    "- Provides a **streamlined** workflow for collaborative teams"
   ]
  },
  {
   "cell_type": "markdown",
   "metadata": {
    "slideshow": {
     "slide_type": "fragment"
    }
   },
   "source": [
    "### Main goal: understand & encourage following these guidelines"
   ]
  },
  {
   "cell_type": "markdown",
   "metadata": {
    "slideshow": {
     "slide_type": "slide"
    }
   },
   "source": [
    "## Terminology Overview\n",
    "\n",
    "\n",
    "| **Places**    | **Actions**    | **Communications** |\n",
    "|---------------|----------------|--------------------|\n",
    "| repositories  | fork           | remote             |\n",
    "| fork          | push           | issues             |\n",
    "|  upstream     | pull           | pull request       |\n",
    "|  local        | merge          |        .           |\n",
    "|    .          | commit         |        .           |\n",
    "|    .          | fetch          |        .           |\n",
    "\n",
    "Sort of loose, conceptual categories for these slides..."
   ]
  },
  {
   "cell_type": "markdown",
   "metadata": {
    "slideshow": {
     "slide_type": "slide"
    }
   },
   "source": [
    "## Repositories\n",
    "- Magical place (GitHub server) where your project lives\n",
    "- In git, repo officially ends in .git\n",
    "- Well organized, documented (**README**, **checklist**)\n",
    "\n",
    "<img src=\"images/github-repo-example.png\" alt=\"repo-example\" width=\"500\" border=\"0\">"
   ]
  },
  {
   "cell_type": "markdown",
   "metadata": {
    "slideshow": {
     "slide_type": "slide"
    }
   },
   "source": [
    "## Repo in terms of version control\n",
    "\n",
    "**Origin** repo has sequentially *tracked* versions\n",
    "- One **master**, may have many **branches**\n",
    "- Dots represent changes to project along specified branch\n",
    "\n",
    "<img src=\"images/origin.png\" alt=\"origin\" width=\"500\" border=\"0\">"
   ]
  },
  {
   "cell_type": "markdown",
   "metadata": {
    "slideshow": {
     "slide_type": "fragment"
    }
   },
   "source": [
    "\n",
    "## But how to make these changes?"
   ]
  },
  {
   "cell_type": "markdown",
   "metadata": {
    "slideshow": {
     "slide_type": "subslide"
    }
   },
   "source": [
    "## Local Working Copy\n",
    "\n",
    "<img src=\"images/personal-repo-pull.png\" alt=\"personal-repo-pull\" width=\"300\" border=\"0\">\n",
    "\n",
    "One must **pull** the **origin** to workstation for **local** repo clone/copy.<br>\n",
    "  - `git clone https://github.com/<username>/<repo>.git`"
   ]
  },
  {
   "cell_type": "markdown",
   "metadata": {
    "slideshow": {
     "slide_type": "subslide"
    }
   },
   "source": [
    "## Local Work\n",
    "      \n",
    "<img src=\"images/personal-repo-branch.png\" alt=\"personal-repo-pull\" width=\"300\" border=\"0\">\n",
    "\n",
    "Can make changes locally on **master** branch or topically named branch:<br>\n",
    "  - `git checkout -b leafy_branch`"
   ]
  },
  {
   "cell_type": "markdown",
   "metadata": {
    "slideshow": {
     "slide_type": "subslide"
    }
   },
   "source": [
    "## Local Work\n",
    "      \n",
    "<img src=\"images/local.png\" alt=\"local\" width=\"400\" border=\"0\">\n",
    "\n",
    "As a quick aside, always good to run frequently <br>\n",
    "  - `git status` to get more info <br>\n",
    "\n",
    "Can also check what available branches are present via<br>\n",
    "  - `git branch`"
   ]
  },
  {
   "cell_type": "markdown",
   "metadata": {
    "slideshow": {
     "slide_type": "subslide"
    }
   },
   "source": [
    "## Local Commits\n",
    "\n",
    "<img src=\"images/personal-repo-branch.png\" alt=\"personal-repo-pull\" width=\"300\" border=\"0\">\n",
    "\n",
    "When work is done, prep via add and commit! <br>\n",
    "  - `git add <modified_file_list_here>` <br>\n",
    "  - `git commit -m '<meaningful short message of changes>'` <br>\n",
    "This preps changes in a buffer ready for the main repo"
   ]
  },
  {
   "cell_type": "markdown",
   "metadata": {
    "slideshow": {
     "slide_type": "subslide"
    }
   },
   "source": [
    "## Update the Origin\n",
    "\n",
    "<img src=\"images/personal-repo-push.png\" alt=\"personal-repo-push\" width=\"300\" border=\"0\">\n",
    "\n",
    "**Push** local work to origin <br>\n",
    "  - `git push` <br>\n",
    "  - `git push origin X` <br>\n",
    "depending if changes to **master** or X <br>"
   ]
  },
  {
   "cell_type": "markdown",
   "metadata": {
    "slideshow": {
     "slide_type": "subslide"
    }
   },
   "source": [
    "## Personal Repos Wrap-Up\n",
    "\n",
    "<img src=\"images/personal-repo.png\" alt=\"personal-repo\" width=\"300\" border=\"0\">\n",
    "\n",
    "These commands are used more for **personal repos**, for which you are the creator. <br>"
   ]
  },
  {
   "cell_type": "markdown",
   "metadata": {
    "slideshow": {
     "slide_type": "fragment"
    }
   },
   "source": [
    "So what if you have friends?"
   ]
  },
  {
   "cell_type": "markdown",
   "metadata": {
    "slideshow": {
     "slide_type": "slide"
    }
   },
   "source": [
    "## Repo is Somewhere Else on GitHub\n",
    "\n",
    "\n",
    "<img src=\"images/collab-repo-fork.png\" alt=\"collab-repo-fork\" width=\"500\" border=\"0\">\n",
    "\n",
    "You must **fork** the repo! Done directly on GitHub\n",
    "<br>\n",
    "Makes a copy of the repo *at its current state* in your account"
   ]
  },
  {
   "cell_type": "markdown",
   "metadata": {
    "slideshow": {
     "slide_type": "subslide"
    }
   },
   "source": [
    "## Roles Change Once Forked\n",
    "\n",
    "\n",
    "<img src=\"images/collab-repo-after-fork.png\" alt=\"collab-repo-fork\" width=\"500\" border=\"0\">\n",
    "\n",
    "<br>\n",
    "Now treat forked repo as *origin*, as before\n",
    "<br><br>\n",
    "Won't be working on *upstream* till later."
   ]
  },
  {
   "cell_type": "markdown",
   "metadata": {
    "slideshow": {
     "slide_type": "subslide"
    }
   },
   "source": [
    "## Local Work Again\n",
    "\n",
    "<img src=\"images/collab-repo-pull.png\" alt=\"collab-repo-pull\" width=\"500\" border=\"0\">\n",
    "\n",
    "After the **fork**, **origin** is repo in *your account*\n",
    "<br>\n",
    "Repo you forked *from* becomes **upstream**, pull/push from **origin** as usual\n",
    "<br><br><br>\n",
    "What about if changes are made since to the upstream you forked from???!!!"
   ]
  },
  {
   "cell_type": "markdown",
   "metadata": {
    "slideshow": {
     "slide_type": "subslide"
    }
   },
   "source": [
    "## You sync them up!\n",
    "\n",
    "<img src=\"images/collab-repo-fetch.png\" alt=\"collab-repo-fetch\" width=\"500\" border=\"0\">\n",
    "\n",
    "Create a **remote** to the **upstream** repo\n",
    "  - `git remote add upstream https://github.com/<someones_username>/<repo>.git`\n",
    "<br><br>"
   ]
  },
  {
   "cell_type": "markdown",
   "metadata": {
    "slideshow": {
     "slide_type": "subslide"
    }
   },
   "source": [
    "## You sync them up!\n",
    "\n",
    "<img src=\"images/collab-repo-fetch.png\" alt=\"collab-repo-fetch\" width=\"500\" border=\"0\">\n",
    "\n",
    "Then sync the **local** one by **fetching** the upstream, then **merging** it and the local master\n",
    "  - `git fetch upstream`\n",
    "  - `git checkout master`\n",
    "  - `git merge upstream/master`"
   ]
  },
  {
   "cell_type": "markdown",
   "metadata": {
    "slideshow": {
     "slide_type": "subslide"
    }
   },
   "source": [
    "## Now get to work as usual...\n",
    "\n",
    "<img src=\"images/collab-repo-push.png\" alt=\"collab-repo-push\" width=\"500\" border=\"0\">\n",
    "\n",
    "<br>\n",
    "- Make new branches and write new code\n",
    "- Add changed files, **commit** and **push** to **origin**\n",
    "<br>\n",
    "<br>"
   ]
  },
  {
   "cell_type": "markdown",
   "metadata": {
    "slideshow": {
     "slide_type": "subslide"
    }
   },
   "source": [
    "## After pushing...\n",
    "\n",
    "So far, **push** only changed your **forked** repo, the **origin**."
   ]
  },
  {
   "cell_type": "markdown",
   "metadata": {
    "slideshow": {
     "slide_type": "fragment"
    }
   },
   "source": [
    "Ask changes to be reflected in **upstream** via **Pull Request**\n",
    "\n",
    "<img src=\"images/pull-request-button.png\" alt=\"pull-request-button\" width=\"300\" border=\"0\">"
   ]
  },
  {
   "cell_type": "markdown",
   "metadata": {
    "slideshow": {
     "slide_type": "fragment"
    }
   },
   "source": [
    "Alerts maintainer to review requested changes. One should:\n",
    "- Check if changes solve an open issue, otherwise open a new issue.\n",
    "<img src=\"images/new-issue-button.png\" alt=\"new-issue-button\" width=\"500\" border=\"0\">\n",
    "- Statement in PR box detailing changes.\n",
    "  - Assign yourself\n",
    "  - Request review to look for errors, conflicts, etc\n",
    "  - **Do Not** merge, only done by the **reviewer**!"
   ]
  },
  {
   "cell_type": "markdown",
   "metadata": {
    "slideshow": {
     "slide_type": "subslide"
    }
   },
   "source": [
    "## Collaborative Effort\n",
    "\n",
    "<img src=\"images/collab-repo.png\" alt=\"collab-repo\" width=\"500\" border=\"0\">"
   ]
  },
  {
   "cell_type": "markdown",
   "metadata": {
    "slideshow": {
     "slide_type": "slide"
    }
   },
   "source": [
    "## Comparison\n",
    "\n",
    "| Collaborative Work |.| Personal Repo Work |\n",
    "|------|-----|-----|\n",
    "| <img src=\"images/collab-repo.png\" alt=\"collab-repo\" width=\"500\" border=\"0\"> | . | <img src=\"images/personal-repo.png\" alt=\"personal-repo\" width=\"200\" border=\"0\"> |"
   ]
  },
  {
   "cell_type": "markdown",
   "metadata": {
    "slideshow": {
     "slide_type": "slide"
    }
   },
   "source": [
    "## Some Best Practices & Comments\n",
    "\n",
    "General\n",
    "- Use `git status` often\n",
    "- Commits short: `git commit -m \"Adds input feature x to script y\"`\n",
    "- Add tech advisor as **collaborator**"
   ]
  },
  {
   "cell_type": "markdown",
   "metadata": {
    "slideshow": {
     "slide_type": "fragment"
    }
   },
   "source": [
    "Personal Repos\n",
    "- Can work on master, branches show mastery..."
   ]
  },
  {
   "cell_type": "markdown",
   "metadata": {
    "slideshow": {
     "slide_type": "fragment"
    }
   },
   "source": [
    "Collaborative Work\n",
    "- Extension: contribute safely to codebase, avoid conflicts\n",
    "  - Addition of **fork**, **remote/fetch** prior to work\n",
    "  - PR after normal steps when code is **deliverable** (code review...)\n",
    "- **Never** merge a PR to a codebase unless you are the reviewer."
   ]
  },
  {
   "cell_type": "markdown",
   "metadata": {
    "slideshow": {
     "slide_type": "slide"
    }
   },
   "source": [
    "# Summary\n",
    "\n",
    "- Hopefully, the functionality of GitHub is clearer\n",
    "    - Set of commands for 90% work\n",
    "    - Potentially improve performance of team\n",
    "    - Provide systematic review in main codebase"
   ]
  },
  {
   "cell_type": "markdown",
   "metadata": {
    "slideshow": {
     "slide_type": "fragment"
    }
   },
   "source": [
    "- Is safest, most efficient manner to streamline contributions to repos in teams"
   ]
  },
  {
   "cell_type": "markdown",
   "metadata": {
    "slideshow": {
     "slide_type": "fragment"
    }
   },
   "source": [
    "- Finally, example checklist you can test commands on in [this](https://github.com/zhampel/github-contributing-guide) very repo!"
   ]
  },
  {
   "cell_type": "markdown",
   "metadata": {
    "slideshow": {
     "slide_type": "slide"
    }
   },
   "source": [
    "# Thank you for your attention!\n",
    "\n",
    "<br>\n",
    "\n",
    "![final](images/sunset-gsl.jpg)\n",
    "\n",
    "## Any Further Questions?"
   ]
  },
  {
   "cell_type": "markdown",
   "metadata": {
    "slideshow": {
     "slide_type": "slide"
    }
   },
   "source": [
    "# Command Line Sequences"
   ]
  },
  {
   "cell_type": "markdown",
   "metadata": {
    "slideshow": {
     "slide_type": "subslide"
    }
   },
   "source": [
    "## Personal Repos\n",
    "\n",
    "- Create a new repo named *repo_name* on your GitHub :)\n",
    "- On your work station, clone the repo\n",
    "  - `git clone https://github.com/<your_username>/<repo_name>.git`\n",
    "  - `cd repo_name`\n",
    "- You are now in a **local** copy of the **origin**-al repo"
   ]
  },
  {
   "cell_type": "markdown",
   "metadata": {
    "slideshow": {
     "slide_type": "fragment"
    }
   },
   "source": [
    "- You are on the **master** branch until you decide to make a new branch\n",
    "  - `git checkout -b <new_branch>`\n",
    "  - `git branch` or `git status` to get more info\n",
    "- Can checkout other existing branches easily\n",
    "  - `git checkout <other_branch_name>`\n",
    "  - `git checkout master` of course\n",
    "- For more info\n",
    "  - `git branch` or `git status`"
   ]
  },
  {
   "cell_type": "markdown",
   "metadata": {
    "slideshow": {
     "slide_type": "slide"
    }
   },
   "source": [
    "## Personal Repo - Command Line Sequence\n",
    "\n",
    "- `git clone https://github.com/<your_username>/<repo_name>.git`\n",
    "- `cd repo_name`\n",
    "- `git checkout -b <new_feature_branch_name>`\n",
    "- `git add <modified_file_list_here>`\n",
    "- `git commit -m '<meaningful short message about the changes made>'`\n",
    "- `git push origin <new_feature_branch_name>`\n",
    "- If pushed to master branch, no worries. Otherwise, can go to your repo on GitHub and submit a Pull Request."
   ]
  },
  {
   "cell_type": "markdown",
   "metadata": {
    "slideshow": {
     "slide_type": "slide"
    }
   },
   "source": [
    "## Contributing to Repo - Command Line Sequence\n",
    "\n",
    "- Fork the Repo\n",
    "<img src=\"images/fork-button.png\" alt=\"fork-button\" width=\"300\" border=\"0\">\n",
    "- `git clone https://github.com/<your_username>/<repo_name>.git`\n",
    "- `cd repo_name`\n",
    "- `git remote add upstream https://github.com/<upstream_username>/<repo_name>.git`\n",
    "- `git remote -v`\n",
    "- `git fetch upstream`\n",
    "- `git checkout master`\n",
    "- `git merge upstream/master`\n",
    "- If fixing/adding, good idea to submit a **ticket**. Assign yourself, add labels, etc.\n",
    "<img src=\"images/new-issue-button.png\" alt=\"issue-button\" width=\"700\" border=\"0\">"
   ]
  },
  {
   "cell_type": "markdown",
   "metadata": {
    "slideshow": {
     "slide_type": "subslide"
    }
   },
   "source": [
    "## Contributing to Repo - Continued\n",
    "\n",
    "- `git checkout -b <new_feature_branch_name>`\n",
    "- Do what you do best\n",
    "- `git add <modified_file_list_here>`\n",
    "- `git commit -m '<meaningful short message about the changes made>'`\n",
    "- `git push origin <new_feature_branch_name>`\n",
    "- Go to your repo on GitHub and submit a **pull request**! Can request reviewer, assign yourself, add labels, etc.\n",
    "<img src=\"images/pull-request-button.png\" alt=\"pr-button\" width=\"400\" border=\"0\">\n",
    "- After PR accepted go back to `git fetch upstream` step and keep contributing!\n"
   ]
  },
  {
   "cell_type": "code",
   "execution_count": null,
   "metadata": {},
   "outputs": [],
   "source": []
  }
 ],
 "metadata": {
  "celltoolbar": "Slideshow",
  "kernelspec": {
   "display_name": "Python 3",
   "language": "python",
   "name": "python3"
  },
  "language_info": {
   "codemirror_mode": {
    "name": "ipython",
    "version": 3
   },
   "file_extension": ".py",
   "mimetype": "text/x-python",
   "name": "python",
   "nbconvert_exporter": "python",
   "pygments_lexer": "ipython3",
   "version": "3.7.0"
  }
 },
 "nbformat": 4,
 "nbformat_minor": 2
}
